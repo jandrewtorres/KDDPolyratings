{
 "cells": [
  {
   "cell_type": "code",
   "execution_count": 1,
   "metadata": {},
   "outputs": [],
   "source": [
    "import configparser\n",
    "import mysql.connector\n",
    "from mysql.connector import errorcode\n",
    "import pickle\n",
    "\n",
    "parser = configparser.ConfigParser()\n",
    "parser.read('./config.ini')\n",
    "config = {\n",
    "    'host': parser.get('DEFAULT', 'host'),\n",
    "    'database': parser.get('DEFAULT', 'db_name'),\n",
    "    'user': parser.get('DEFAULT', 'user'),\n",
    "    'password': parser.get('DEFAULT', 'password')\n",
    "}\n",
    "\n",
    "try:\n",
    "    cnx = mysql.connector.connect(**config)\n",
    "except mysql.connector.Error as err:\n",
    "    if err.errno == errorcode.ER_ACCESS_DENIED_ERROR:\n",
    "        print(\"Something is wrong with your user name or password\")\n",
    "    elif err.errno == errorcode.ER_BAD_DB_ERROR:\n",
    "        print(\"Database does not exist\")\n",
    "    else:\n",
    "        print(err)\n",
    "\n",
    "cursor = cnx.cursor(dictionary=True)"
   ]
  },
  {
   "cell_type": "code",
   "execution_count": 2,
   "metadata": {},
   "outputs": [],
   "source": [
    "def getAllProfessors():\n",
    "    query = (\"SELECT * FROM professor;\")\n",
    "    cursor.execute(query)\n",
    "    return [prof for prof in cursor]\n",
    "\n",
    "def getAllReviews():\n",
    "    query = (\"SELECT * FROM review;\")\n",
    "    cursor.execute(query)\n",
    "    return [review for review in cursor]"
   ]
  },
  {
   "cell_type": "code",
   "execution_count": 5,
   "metadata": {},
   "outputs": [],
   "source": [
    "pickle.dump(getAllProfessors(), open('professors.pkl', 'wb'))\n",
    "pickle.dump(getAllReviews(), open('reviews.pkl', 'wb'))"
   ]
  }
 ],
 "metadata": {
  "kernelspec": {
   "display_name": "Python 3",
   "language": "python",
   "name": "python3"
  },
  "language_info": {
   "codemirror_mode": {
    "name": "ipython",
    "version": 3
   },
   "file_extension": ".py",
   "mimetype": "text/x-python",
   "name": "python",
   "nbconvert_exporter": "python",
   "pygments_lexer": "ipython3",
   "version": "3.7.1"
  }
 },
 "nbformat": 4,
 "nbformat_minor": 2
}
